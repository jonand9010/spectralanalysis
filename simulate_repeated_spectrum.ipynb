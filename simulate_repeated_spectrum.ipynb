{
 "cells": [
  {
   "cell_type": "code",
   "execution_count": null,
   "id": "generic-photography",
   "metadata": {},
   "outputs": [],
   "source": [
    "import numpy as np\n",
    "import plotly\n",
    "import plotly.graph_objects as go\n",
    "import matplotlib.pyplot as plt\n",
    "plotly.offline.init_notebook_mode(connected=True)"
   ]
  },
  {
   "cell_type": "code",
   "execution_count": null,
   "id": "portable-license",
   "metadata": {},
   "outputs": [],
   "source": [
    "def gaussian_line(x, A, x0, std):\n",
    "    return A * (np.exp(-(x-x0)**2 /std ))# / np.max(np.exp((x-x0)**2 /std ))\n",
    "\n",
    "def create_spectrum(line_list):\n",
    "    spectrum = np.zeros(line_list[0].shape)\n",
    "    for line in line_list:\n",
    "        spectrum += line\n",
    "    return spectrum\n",
    "\n",
    "def get_bin_shift(x, time_shift):\n",
    "    return np.where(x >= time_shift)[0][0]\n",
    "\n",
    "def shift_spectrum(x, y, shift, n_shifts = 1, decay = 0.3):\n",
    "    x = np.array(x)\n",
    "    shifted_spectrum = y.copy()\n",
    "    bin_shift = get_bin_shift(x, shift) #np.where(x >= shift)[0][0]\n",
    "    for n in range(1, n_shifts+1):\n",
    "        y_new = np.roll(y, n * bin_shift)\n",
    "        shifted_spectrum += decay * y_new\n",
    "    return shifted_spectrum, bin_shift\n",
    "\n",
    "def get_measurements(t, spectrum, time_shift, samples = 10):\n",
    "    X = []\n",
    "    bins = spectrum.shape[0]\n",
    "    for sample in range(samples):\n",
    "        sample_spectrum, bin_shift = shift_spectrum(t, spectrum, time_shift, n_shifts = 4)\n",
    "        sample_spectrum += np.abs(np.random.normal(0, 0.2, bins))\n",
    "        X.append(sample_spectrum)\n",
    "    X = np.array(X)\n",
    "    return X, bin_shift"
   ]
  },
  {
   "cell_type": "code",
   "execution_count": null,
   "id": "superior-diagnosis",
   "metadata": {},
   "outputs": [],
   "source": [
    "bins = 100\n",
    "time_shift = 100\n",
    "\n",
    "t = np.linspace(0, 500, bins)\n",
    "y1 = gaussian_line(t, 10, 173, 10)\n",
    "y2 = gaussian_line(t, 2, 147, 10)\n",
    "y3 = gaussian_line(t, 7, 202, 7)\n",
    "spectrum = create_spectrum([y1, y2, y3])\n",
    "\n",
    "samples, bin_shift = get_measurements(t, spectrum, time_shift = 100, samples = 50)\n"
   ]
  },
  {
   "cell_type": "code",
   "execution_count": null,
   "id": "affected-crazy",
   "metadata": {},
   "outputs": [],
   "source": [
    "fig = plt.figure(figsize = (15,5))\n",
    "plt.plot(t, spectrum)\n",
    "plt.plot(t, samples[0,:])\n",
    "plt.plot(t, samples[1,:])\n",
    "plt.plot(t, samples[10,:])\n",
    "plt.show()"
   ]
  },
  {
   "cell_type": "markdown",
   "id": "cooperative-spread",
   "metadata": {},
   "source": [
    "W * A * X "
   ]
  },
  {
   "cell_type": "code",
   "execution_count": null,
   "id": "c4a14b8f",
   "metadata": {},
   "outputs": [],
   "source": []
  },
  {
   "cell_type": "code",
   "execution_count": null,
   "id": "830c6f39",
   "metadata": {},
   "outputs": [],
   "source": [
    "def get_shift_matrix(t, spectrum, time_shifts, decay_weight):\n",
    "    bins = spectrum.shape[0]\n",
    "    shift_matrix = np.eye(bins)\n",
    "    \n",
    "    bin_shifts = []\n",
    "    for time_shift in time_shifts:\n",
    "        bin_shifts.append(get_bin_shift(t, time_shift))\n",
    "    \n",
    "    for shift in bin_shifts:\n",
    "        for bin in range(bins):\n",
    "            iter_bin = bin\n",
    "            while iter_bin + shift < bins:\n",
    "                shift_matrix[bin, iter_bin + shift] += decay_weight\n",
    "                iter_bin += shift\n",
    "    shift_matrix += shift_matrix.T\n",
    "    np.fill_diagonal(shift_matrix, 1)\n",
    "    return shift_matrix\n",
    "\n",
    "M = get_shift_matrix(t, spectrum, time_shifts = [time_shift], decay_weight = 0.3)\n",
    "\n"
   ]
  },
  {
   "cell_type": "code",
   "execution_count": null,
   "id": "dressed-pointer",
   "metadata": {},
   "outputs": [],
   "source": [
    "\n",
    "plt.plot(t, samples[0,:])\n",
    "plt.plot(t, np.dot(M, spectrum.T), '-')\n",
    "plt.show()"
   ]
  },
  {
   "cell_type": "code",
   "execution_count": null,
   "id": "82cf8103",
   "metadata": {},
   "outputs": [],
   "source": [
    "M_inv = np.linalg.pinv(M)\n",
    "test_spec = np.dot(M_inv, samples[0,:])"
   ]
  },
  {
   "cell_type": "code",
   "execution_count": null,
   "id": "35acebb0",
   "metadata": {},
   "outputs": [],
   "source": [
    "plt.plot(t, spectrum)\n",
    "plt.plot(t, test_spec, '-', alpha = 0.8)\n",
    "plt.show()"
   ]
  },
  {
   "cell_type": "code",
   "execution_count": null,
   "id": "ee821122",
   "metadata": {},
   "outputs": [],
   "source": []
  }
 ],
 "metadata": {
  "kernelspec": {
   "display_name": "Python 3",
   "language": "python",
   "name": "python3"
  },
  "language_info": {
   "codemirror_mode": {
    "name": "ipython",
    "version": 3
   },
   "file_extension": ".py",
   "mimetype": "text/x-python",
   "name": "python",
   "nbconvert_exporter": "python",
   "pygments_lexer": "ipython3",
   "version": "3.7.8"
  }
 },
 "nbformat": 4,
 "nbformat_minor": 5
}
